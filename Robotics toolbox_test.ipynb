{
 "cells": [
  {
   "cell_type": "code",
   "execution_count": 4,
   "metadata": {},
   "outputs": [
    {
     "name": "stdout",
     "output_type": "stream",
     "text": [
      "Sujay\n"
     ]
    }
   ],
   "source": [
    "print (\"Sujay\")"
   ]
  },
  {
   "cell_type": "code",
   "execution_count": 9,
   "metadata": {},
   "outputs": [
    {
     "name": "stdout",
     "output_type": "stream",
     "text": [
      "ERobot: kuka_lbr_iiwa_14_r820 (by Kuka), 7 joints (RRRRRRR), 2 branches, geometry, collision\n",
      "┌─────┬───────────┬───────┬───────────┬───────────────────────────────────┐\n",
      "│link │   link    │ joint │  parent   │        ETS: parent to link        │\n",
      "├─────┼───────────┼───────┼───────────┼───────────────────────────────────┤\n",
      "│   0\u001b[0m │ \u001b[38;5;4mbase_link\u001b[0m │      \u001b[0m │ BASE\u001b[0m      │ SE3()\u001b[0m                             │\n",
      "│   1\u001b[0m │ link_1\u001b[0m    │     0\u001b[0m │ base_link\u001b[0m │ SE3() ⊕ Rz(q0)\u001b[0m                    │\n",
      "│   2\u001b[0m │ link_2\u001b[0m    │     1\u001b[0m │ link_1\u001b[0m    │ SE3(-0.0004362, 0, 0.36) ⊕ Ry(q1)\u001b[0m │\n",
      "│   3\u001b[0m │ link_3\u001b[0m    │     2\u001b[0m │ link_2\u001b[0m    │ SE3() ⊕ Rz(q2)\u001b[0m                    │\n",
      "│   4\u001b[0m │ link_4\u001b[0m    │     3\u001b[0m │ link_3\u001b[0m    │ SE3(0.0004362, 0, 0.42) ⊕ Ry(-q3)\u001b[0m │\n",
      "│   5\u001b[0m │ link_5\u001b[0m    │     4\u001b[0m │ link_4\u001b[0m    │ SE3() ⊕ Rz(q4)\u001b[0m                    │\n",
      "│   6\u001b[0m │ link_6\u001b[0m    │     5\u001b[0m │ link_5\u001b[0m    │ SE3(0, 0, 0.4) ⊕ Ry(q5)\u001b[0m           │\n",
      "│   7\u001b[0m │ link_7\u001b[0m    │     6\u001b[0m │ link_6\u001b[0m    │ SE3() ⊕ Rz(q6)\u001b[0m                    │\n",
      "│   8\u001b[0m │ \u001b[38;5;4m@tool0\u001b[0m    │      \u001b[0m │ link_7\u001b[0m    │ SE3(0, 0, 0.126)\u001b[0m                  │\n",
      "│   9\u001b[0m │ \u001b[38;5;4m@base\u001b[0m     │      \u001b[0m │ base_link\u001b[0m │ SE3()\u001b[0m                             │\n",
      "└─────┴───────────┴───────┴───────────┴───────────────────────────────────┘\n",
      "\n",
      "┌─────┬─────┬────────┬─────┬───────┬─────┬────────┬──────┐\n",
      "│name │ q0  │ q1     │ q2  │ q3    │ q4  │ q5     │ q6   │\n",
      "├─────┼─────┼────────┼─────┼───────┼─────┼────────┼──────┤\n",
      "│  qr\u001b[0m │  0°\u001b[0m │ -17.2°\u001b[0m │  0°\u001b[0m │ -109°\u001b[0m │  0°\u001b[0m │  85.9°\u001b[0m │  45°\u001b[0m │\n",
      "│  qz\u001b[0m │  0°\u001b[0m │  0°\u001b[0m    │  0°\u001b[0m │  0°\u001b[0m   │  0°\u001b[0m │  0°\u001b[0m    │  0°\u001b[0m  │\n",
      "└─────┴─────┴────────┴─────┴───────┴─────┴────────┴──────┘\n",
      "\n"
     ]
    },
    {
     "ename": "KeyboardInterrupt",
     "evalue": "",
     "output_type": "error",
     "traceback": [
      "\u001b[0;31m---------------------------------------------------------------------------\u001b[0m",
      "\u001b[0;31mKeyboardInterrupt\u001b[0m                         Traceback (most recent call last)",
      "\u001b[1;32m/Users/sujaymukherjee/Downloads/Robotics toolbox_test.ipynb Cell 2\u001b[0m line \u001b[0;36m1\n\u001b[1;32m     <a href='vscode-notebook-cell:/Users/sujaymukherjee/Downloads/Robotics%20toolbox_test.ipynb#W2sZmlsZQ%3D%3D?line=15'>16</a>\u001b[0m \u001b[39mfor\u001b[39;00m _ \u001b[39min\u001b[39;00m \u001b[39mrange\u001b[39m(\u001b[39m100\u001b[39m):\n\u001b[1;32m     <a href='vscode-notebook-cell:/Users/sujaymukherjee/Downloads/Robotics%20toolbox_test.ipynb#W2sZmlsZQ%3D%3D?line=16'>17</a>\u001b[0m     env\u001b[39m.\u001b[39mstep(\u001b[39m0.05\u001b[39m)\n\u001b[0;32m---> <a href='vscode-notebook-cell:/Users/sujaymukherjee/Downloads/Robotics%20toolbox_test.ipynb#W2sZmlsZQ%3D%3D?line=18'>19</a>\u001b[0m env\u001b[39m.\u001b[39;49mhold()\n",
      "File \u001b[0;32m~/anaconda3/envs/Internship/lib/python3.10/site-packages/swift/Swift.py:466\u001b[0m, in \u001b[0;36mSwift.hold\u001b[0;34m(self)\u001b[0m\n\u001b[1;32m    459\u001b[0m \u001b[39m\"\"\"\u001b[39;00m\n\u001b[1;32m    460\u001b[0m \u001b[39mhold() keeps the browser tab open i.e. stops the browser tab from\u001b[39;00m\n\u001b[1;32m    461\u001b[0m \u001b[39mclosing once the main script has finished.\u001b[39;00m\n\u001b[1;32m    462\u001b[0m \n\u001b[1;32m    463\u001b[0m \u001b[39m\"\"\"\u001b[39;00m\n\u001b[1;32m    465\u001b[0m \u001b[39mwhile\u001b[39;00m \u001b[39mTrue\u001b[39;00m:\n\u001b[0;32m--> 466\u001b[0m     time\u001b[39m.\u001b[39;49msleep(\u001b[39m1\u001b[39;49m)\n",
      "\u001b[0;31mKeyboardInterrupt\u001b[0m: "
     ]
    }
   ],
   "source": [
    "import roboticstoolbox as rtb\n",
    "import swift\n",
    "\n",
    "env = swift.Swift()\n",
    "env.launch(realtime=True)\n",
    "\n",
    "cobot = rtb.models.LBR()\n",
    "cobot.q = cobot.qr\n",
    "\n",
    "print(cobot)\n",
    "\n",
    "cobot.qd = [3, 1, 0, 2, 0, 0, 1]\n",
    "\n",
    "env.add(cobot)\n",
    "\n",
    "for _ in range(100):\n",
    "    env.step(0.05)\n",
    "\n",
    "env.hold()"
   ]
  },
  {
   "cell_type": "code",
   "execution_count": null,
   "metadata": {},
   "outputs": [],
   "source": []
  }
 ],
 "metadata": {
  "kernelspec": {
   "display_name": "Internship",
   "language": "python",
   "name": "python3"
  },
  "language_info": {
   "codemirror_mode": {
    "name": "ipython",
    "version": 3
   },
   "file_extension": ".py",
   "mimetype": "text/x-python",
   "name": "python",
   "nbconvert_exporter": "python",
   "pygments_lexer": "ipython3",
   "version": "3.10.9"
  }
 },
 "nbformat": 4,
 "nbformat_minor": 2
}
