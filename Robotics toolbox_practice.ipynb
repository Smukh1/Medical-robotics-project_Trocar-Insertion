{
 "cells": [
  {
   "cell_type": "code",
   "execution_count": 50,
   "metadata": {},
   "outputs": [],
   "source": [
    "import roboticstoolbox as rtb\n",
    "import swift\n",
    "import numpy as np\n",
    "import spatialmath as sm\n",
    "from spatialmath import SE3\n",
    "import spatialgeometry as sg # to visualise the basic shapes and meshes of the geometry"
   ]
  },
  {
   "cell_type": "code",
   "execution_count": 51,
   "metadata": {},
   "outputs": [],
   "source": [
    "# Creating a swift instance\n",
    "env = swift.Swift()\n",
    "env.launch(realtime=True) #realtime = Ture helps the Swift to run as close to real time as it can otherwise it will \n",
    "                          #perform as quickly as possible."
   ]
  },
  {
   "cell_type": "code",
   "execution_count": 52,
   "metadata": {},
   "outputs": [
    {
     "name": "stdout",
     "output_type": "stream",
     "text": [
      "ERobot: kuka_lbr_iiwa_14_r820 (by Kuka), 7 joints (RRRRRRR), 2 branches, geometry, collision\n",
      "┌─────┬───────────┬───────┬───────────┬───────────────────────────────────┐\n",
      "│link │   link    │ joint │  parent   │        ETS: parent to link        │\n",
      "├─────┼───────────┼───────┼───────────┼───────────────────────────────────┤\n",
      "│   0\u001b[0m │ \u001b[38;5;4mbase_link\u001b[0m │      \u001b[0m │ BASE\u001b[0m      │ SE3()\u001b[0m                             │\n",
      "│   1\u001b[0m │ link_1\u001b[0m    │     0\u001b[0m │ base_link\u001b[0m │ SE3() ⊕ Rz(q0)\u001b[0m                    │\n",
      "│   2\u001b[0m │ link_2\u001b[0m    │     1\u001b[0m │ link_1\u001b[0m    │ SE3(-0.0004362, 0, 0.36) ⊕ Ry(q1)\u001b[0m │\n",
      "│   3\u001b[0m │ link_3\u001b[0m    │     2\u001b[0m │ link_2\u001b[0m    │ SE3() ⊕ Rz(q2)\u001b[0m                    │\n",
      "│   4\u001b[0m │ link_4\u001b[0m    │     3\u001b[0m │ link_3\u001b[0m    │ SE3(0.0004362, 0, 0.42) ⊕ Ry(-q3)\u001b[0m │\n",
      "│   5\u001b[0m │ link_5\u001b[0m    │     4\u001b[0m │ link_4\u001b[0m    │ SE3() ⊕ Rz(q4)\u001b[0m                    │\n",
      "│   6\u001b[0m │ link_6\u001b[0m    │     5\u001b[0m │ link_5\u001b[0m    │ SE3(0, 0, 0.4) ⊕ Ry(q5)\u001b[0m           │\n",
      "│   7\u001b[0m │ link_7\u001b[0m    │     6\u001b[0m │ link_6\u001b[0m    │ SE3() ⊕ Rz(q6)\u001b[0m                    │\n",
      "│   8\u001b[0m │ \u001b[38;5;4m@tool0\u001b[0m    │      \u001b[0m │ link_7\u001b[0m    │ SE3(0, 0, 0.126)\u001b[0m                  │\n",
      "│   9\u001b[0m │ \u001b[38;5;4m@base\u001b[0m     │      \u001b[0m │ base_link\u001b[0m │ SE3()\u001b[0m                             │\n",
      "└─────┴───────────┴───────┴───────────┴───────────────────────────────────┘\n",
      "\n",
      "┌─────┬─────┬────────┬─────┬───────┬─────┬────────┬──────┐\n",
      "│name │ q0  │ q1     │ q2  │ q3    │ q4  │ q5     │ q6   │\n",
      "├─────┼─────┼────────┼─────┼───────┼─────┼────────┼──────┤\n",
      "│  qr\u001b[0m │  0°\u001b[0m │ -17.2°\u001b[0m │  0°\u001b[0m │ -109°\u001b[0m │  0°\u001b[0m │  85.9°\u001b[0m │  45°\u001b[0m │\n",
      "│  qz\u001b[0m │  0°\u001b[0m │  0°\u001b[0m    │  0°\u001b[0m │  0°\u001b[0m   │  0°\u001b[0m │  0°\u001b[0m    │  0°\u001b[0m  │\n",
      "└─────┴─────┴────────┴─────┴───────┴─────┴────────┴──────┘\n",
      "\n"
     ]
    },
    {
     "data": {
      "text/plain": [
       "0"
      ]
     },
     "execution_count": 52,
     "metadata": {},
     "output_type": "execute_result"
    }
   ],
   "source": [
    "# initialising the robot\n",
    "IIWA = rtb.models.LBR()\n",
    "IIWA.q = IIWA.qr # Initializing the joint coordinates 'q' with a predifened set of coordinates 'qr' (qr is the robot home position)\n",
    "\n",
    "IIWA.qd= [1,0,0,0,0,0,0.5] # initializing the joint velocities 'qd' in rad/s; the last one is the end effector.\n",
    "\n",
    "print(IIWA) # just printing the coordinates\n",
    "\n",
    "#Add panda to swift\n",
    "env.add(IIWA, robot_alpha=1, collision_alpha=0) # 'robot_alpha' keayword is for robot opacity, it is now set to 100%\n",
    "                                                    # 'collision_alpha' is for collision opacity (with cylinders, spheres, etc)\n",
    "                                                    # now it is set to 0%"
   ]
  },
  {
   "cell_type": "code",
   "execution_count": 53,
   "metadata": {},
   "outputs": [],
   "source": [
    "# stepping the environment for swift to perform the motion\n",
    "for _ in range(100):      # '_' means the loop variable isn't important here, we just want it to iterate 100 times.\n",
    "    env.step(0.05)        # control the step counts for smooth flow."
   ]
  },
  {
   "cell_type": "code",
   "execution_count": 54,
   "metadata": {},
   "outputs": [
    {
     "name": "stdout",
     "output_type": "stream",
     "text": [
      "multiple end-effectors present, ambiguous, using self.ee_links[0]\n"
     ]
    },
    {
     "name": "stderr",
     "output_type": "stream",
     "text": [
      "/Users/sujaymukherjee/anaconda3/envs/Internship/lib/python3.10/site-packages/spatialgeometry/geom/Shape.py:81: FutureWarning: base kwarg is deprecated, use pose instead\n",
      "  warn(\"base kwarg is deprecated, use pose instead\", FutureWarning)\n"
     ]
    },
    {
     "data": {
      "text/plain": [
       "1"
      ]
     },
     "execution_count": 54,
     "metadata": {},
     "output_type": "execute_result"
    }
   ],
   "source": [
    "# Setting the end effector position\n",
    "EndPoint= IIWA.fkine(IIWA.q)*sm.SE3.Tx(0.3)*sm.SE3.Ty(0.4)*sm.SE3.Tz(0.4-0.2)*sm.SE3.Rx(np.pi/3)\n",
    "# With this we are 1st finding the positon of the end effector (using forward kinematics) and then offseting this position by using the translation operator 'Tx/y/z' and \n",
    "# rotational operator 'Rx/y/z'. The dimentions are in meters and radians\n",
    "# we can manipulate this to take the end effector whereever we want and here we need to set a virtual offset at the end using translation or rotation.\n",
    "\n",
    "GoalPoint = IIWA.fkine(IIWA.q)*sm.SE3.Tx(0.3)*sm.SE3.Ty(0.4)*sm.SE3.Tz(0.4)\n",
    "# Defining a point for the axis (For my project I can use it as my desired point/goal point that is somewhere in top surface of the abdomen)\n",
    "\n",
    "axes = sg.Axes(length=0.1, base=GoalPoint) # Putting some axis in the swift environment, here it is a right handed coordinates \n",
    "                                     # with lenght= 0.1 and pos= GoalPoint\n",
    "                                     # This is a axis created with some random points\n",
    "env.add(axes)"
   ]
  },
  {
   "cell_type": "code",
   "execution_count": 55,
   "metadata": {},
   "outputs": [
    {
     "name": "stdout",
     "output_type": "stream",
     "text": [
      "  \u001b[38;5;1m-0.9953  \u001b[0m \u001b[38;5;1m 0.008171\u001b[0m \u001b[38;5;1m-0.09605 \u001b[0m \u001b[38;5;4m-0.5485  \u001b[0m  \u001b[0m\n",
      "  \u001b[38;5;1m 0.08704 \u001b[0m \u001b[38;5;1m 0.5044  \u001b[0m \u001b[38;5;1m-0.8591  \u001b[0m \u001b[38;5;4m 0.4749  \u001b[0m  \u001b[0m\n",
      "  \u001b[38;5;1m 0.04142 \u001b[0m \u001b[38;5;1m-0.8635  \u001b[0m \u001b[38;5;1m-0.5027  \u001b[0m \u001b[38;5;4m 0.4379  \u001b[0m  \u001b[0m\n",
      "  \u001b[38;5;244m 0       \u001b[0m \u001b[38;5;244m 0       \u001b[0m \u001b[38;5;244m 0       \u001b[0m \u001b[38;5;244m 1       \u001b[0m  \u001b[0m\n",
      "\n",
      "  \u001b[38;5;1m-0.9953  \u001b[0m \u001b[38;5;1m 0.08726 \u001b[0m \u001b[38;5;1m-0.04095 \u001b[0m \u001b[38;5;4m-0.5567  \u001b[0m  \u001b[0m\n",
      "  \u001b[38;5;1m 0.08704 \u001b[0m \u001b[38;5;1m 0.9962  \u001b[0m \u001b[38;5;1m 0.007231\u001b[0m \u001b[38;5;4m 0.4763  \u001b[0m  \u001b[0m\n",
      "  \u001b[38;5;1m 0.04142 \u001b[0m \u001b[38;5;1m 0.003633\u001b[0m \u001b[38;5;1m-0.9991  \u001b[0m \u001b[38;5;4m 0.238   \u001b[0m  \u001b[0m\n",
      "  \u001b[38;5;244m 0       \u001b[0m \u001b[38;5;244m 0       \u001b[0m \u001b[38;5;244m 0       \u001b[0m \u001b[38;5;244m 1       \u001b[0m  \u001b[0m\n",
      "\n"
     ]
    }
   ],
   "source": [
    "# Printing the EndPoint and the GoalPoint to visualise\n",
    "print(EndPoint)\n",
    "print(GoalPoint)"
   ]
  },
  {
   "cell_type": "code",
   "execution_count": 56,
   "metadata": {},
   "outputs": [
    {
     "name": "stderr",
     "output_type": "stream",
     "text": [
      "connection handler failed\n",
      "Traceback (most recent call last):\n",
      "  File \"/Users/sujaymukherjee/anaconda3/envs/Internship/lib/python3.10/site-packages/websockets/legacy/server.py\", line 236, in handler\n",
      "    await self.ws_handler(self)\n",
      "  File \"/Users/sujaymukherjee/anaconda3/envs/Internship/lib/python3.10/site-packages/websockets/legacy/server.py\", line 1175, in _ws_handler\n",
      "    return await cast(\n",
      "  File \"/Users/sujaymukherjee/anaconda3/envs/Internship/lib/python3.10/site-packages/swift/SwiftRoute.py\", line 320, in serve\n",
      "    await self.expect_message(websocket, expected)\n",
      "  File \"/Users/sujaymukherjee/anaconda3/envs/Internship/lib/python3.10/site-packages/swift/SwiftRoute.py\", line 325, in expect_message\n",
      "    recieved = await websocket.recv()\n",
      "  File \"/Users/sujaymukherjee/anaconda3/envs/Internship/lib/python3.10/site-packages/websockets/legacy/protocol.py\", line 568, in recv\n",
      "    await self.ensure_open()\n",
      "  File \"/Users/sujaymukherjee/anaconda3/envs/Internship/lib/python3.10/site-packages/websockets/legacy/protocol.py\", line 939, in ensure_open\n",
      "    raise self.connection_closed_exc()\n",
      "websockets.exceptions.ConnectionClosedOK: received 1001 (going away); then sent 1001 (going away)\n"
     ]
    },
    {
     "ename": "KeyboardInterrupt",
     "evalue": "",
     "output_type": "error",
     "traceback": [
      "\u001b[0;31m---------------------------------------------------------------------------\u001b[0m",
      "\u001b[0;31mKeyboardInterrupt\u001b[0m                         Traceback (most recent call last)",
      "\u001b[1;32m/Users/sujaymukherjee/Desktop/Fraunhofer/VS code/Robotics toolbox_practice.ipynb Cell 7\u001b[0m line \u001b[0;36m2\n\u001b[1;32m     <a href='vscode-notebook-cell:/Users/sujaymukherjee/Desktop/Fraunhofer/VS%20code/Robotics%20toolbox_practice.ipynb#W6sZmlsZQ%3D%3D?line=18'>19</a>\u001b[0m IIWA\u001b[39m.\u001b[39mqd \u001b[39m=\u001b[39m np\u001b[39m.\u001b[39mlinalg\u001b[39m.\u001b[39mpinv(J) \u001b[39m@\u001b[39m v  \u001b[39m# desired joint velocity of the robot.\u001b[39;00m\n\u001b[1;32m     <a href='vscode-notebook-cell:/Users/sujaymukherjee/Desktop/Fraunhofer/VS%20code/Robotics%20toolbox_practice.ipynb#W6sZmlsZQ%3D%3D?line=20'>21</a>\u001b[0m \u001b[39m#stepping the environment\u001b[39;00m\n\u001b[0;32m---> <a href='vscode-notebook-cell:/Users/sujaymukherjee/Desktop/Fraunhofer/VS%20code/Robotics%20toolbox_practice.ipynb#W6sZmlsZQ%3D%3D?line=21'>22</a>\u001b[0m env\u001b[39m.\u001b[39;49mstep(dt)\n",
      "File \u001b[0;32m~/anaconda3/envs/Internship/lib/python3.10/site-packages/swift/Swift.py:256\u001b[0m, in \u001b[0;36mSwift.step\u001b[0;34m(self, dt, render)\u001b[0m\n\u001b[1;32m    252\u001b[0m \u001b[39mself\u001b[39m\u001b[39m.\u001b[39m_laststep \u001b[39m=\u001b[39m time\u001b[39m.\u001b[39mtime()\n\u001b[1;32m    254\u001b[0m \u001b[39mself\u001b[39m\u001b[39m.\u001b[39m_step_elements()\n\u001b[0;32m--> 256\u001b[0m events \u001b[39m=\u001b[39m \u001b[39mself\u001b[39;49m\u001b[39m.\u001b[39;49m_draw_all()\n\u001b[1;32m    257\u001b[0m \u001b[39m# print(events)\u001b[39;00m\n\u001b[1;32m    258\u001b[0m \n\u001b[1;32m    259\u001b[0m \u001b[39m# Process GUI events\u001b[39;00m\n\u001b[1;32m    260\u001b[0m \u001b[39mself\u001b[39m\u001b[39m.\u001b[39mprocess_events(events)\n",
      "File \u001b[0;32m~/anaconda3/envs/Internship/lib/python3.10/site-packages/swift/Swift.py:664\u001b[0m, in \u001b[0;36mSwift._draw_all\u001b[0;34m(self)\u001b[0m\n\u001b[1;32m    653\u001b[0m         \u001b[39melif\u001b[39;00m \u001b[39misinstance\u001b[39m(\u001b[39mself\u001b[39m\u001b[39m.\u001b[39mswift_objects[i], rtb\u001b[39m.\u001b[39mRobot):\n\u001b[1;32m    654\u001b[0m             msg\u001b[39m.\u001b[39mappend(\n\u001b[1;32m    655\u001b[0m                 [\n\u001b[1;32m    656\u001b[0m                     i,\n\u001b[0;32m   (...)\u001b[0m\n\u001b[1;32m    661\u001b[0m                 ]\n\u001b[1;32m    662\u001b[0m             )\n\u001b[0;32m--> 664\u001b[0m events \u001b[39m=\u001b[39m \u001b[39mself\u001b[39;49m\u001b[39m.\u001b[39;49m_send_socket(\u001b[39m\"\u001b[39;49m\u001b[39mshape_poses\u001b[39;49m\u001b[39m\"\u001b[39;49m, msg, \u001b[39mTrue\u001b[39;49;00m)\n\u001b[1;32m    665\u001b[0m \u001b[39mreturn\u001b[39;00m json\u001b[39m.\u001b[39mloads(events)\n",
      "File \u001b[0;32m~/anaconda3/envs/Internship/lib/python3.10/site-packages/swift/Swift.py:673\u001b[0m, in \u001b[0;36mSwift._send_socket\u001b[0;34m(self, code, data, expected)\u001b[0m\n\u001b[1;32m    670\u001b[0m \u001b[39mself\u001b[39m\u001b[39m.\u001b[39moutq\u001b[39m.\u001b[39mput(msg)\n\u001b[1;32m    672\u001b[0m \u001b[39mif\u001b[39;00m expected:\n\u001b[0;32m--> 673\u001b[0m     \u001b[39mreturn\u001b[39;00m \u001b[39mself\u001b[39;49m\u001b[39m.\u001b[39;49minq\u001b[39m.\u001b[39;49mget()\n\u001b[1;32m    674\u001b[0m \u001b[39melse\u001b[39;00m:\n\u001b[1;32m    675\u001b[0m     \u001b[39mreturn\u001b[39;00m \u001b[39m\"\u001b[39m\u001b[39m0\u001b[39m\u001b[39m\"\u001b[39m\n",
      "File \u001b[0;32m~/anaconda3/envs/Internship/lib/python3.10/queue.py:171\u001b[0m, in \u001b[0;36mQueue.get\u001b[0;34m(self, block, timeout)\u001b[0m\n\u001b[1;32m    169\u001b[0m \u001b[39melif\u001b[39;00m timeout \u001b[39mis\u001b[39;00m \u001b[39mNone\u001b[39;00m:\n\u001b[1;32m    170\u001b[0m     \u001b[39mwhile\u001b[39;00m \u001b[39mnot\u001b[39;00m \u001b[39mself\u001b[39m\u001b[39m.\u001b[39m_qsize():\n\u001b[0;32m--> 171\u001b[0m         \u001b[39mself\u001b[39;49m\u001b[39m.\u001b[39;49mnot_empty\u001b[39m.\u001b[39;49mwait()\n\u001b[1;32m    172\u001b[0m \u001b[39melif\u001b[39;00m timeout \u001b[39m<\u001b[39m \u001b[39m0\u001b[39m:\n\u001b[1;32m    173\u001b[0m     \u001b[39mraise\u001b[39;00m \u001b[39mValueError\u001b[39;00m(\u001b[39m\"\u001b[39m\u001b[39m'\u001b[39m\u001b[39mtimeout\u001b[39m\u001b[39m'\u001b[39m\u001b[39m must be a non-negative number\u001b[39m\u001b[39m\"\u001b[39m)\n",
      "File \u001b[0;32m~/anaconda3/envs/Internship/lib/python3.10/threading.py:320\u001b[0m, in \u001b[0;36mCondition.wait\u001b[0;34m(self, timeout)\u001b[0m\n\u001b[1;32m    318\u001b[0m \u001b[39mtry\u001b[39;00m:    \u001b[39m# restore state no matter what (e.g., KeyboardInterrupt)\u001b[39;00m\n\u001b[1;32m    319\u001b[0m     \u001b[39mif\u001b[39;00m timeout \u001b[39mis\u001b[39;00m \u001b[39mNone\u001b[39;00m:\n\u001b[0;32m--> 320\u001b[0m         waiter\u001b[39m.\u001b[39;49macquire()\n\u001b[1;32m    321\u001b[0m         gotit \u001b[39m=\u001b[39m \u001b[39mTrue\u001b[39;00m\n\u001b[1;32m    322\u001b[0m     \u001b[39melse\u001b[39;00m:\n",
      "\u001b[0;31mKeyboardInterrupt\u001b[0m: "
     ]
    }
   ],
   "source": [
    "# Making the controller aware of where it is now and where it has to move to\n",
    "\n",
    "# Arrived at destination flag\n",
    "arrived =  False\n",
    "\n",
    "# A time step\n",
    "dt = 0.01\n",
    "\n",
    "# This loop is making the arm move from one point to another.\n",
    "while not arrived:\n",
    "    # v is a 6 vector representing the spatial error\n",
    "    v, arrived = rtb.p_servo(IIWA.fkine(IIWA.q), EndPoint, gain=2, threshold=0.01)\n",
    "      # keyword p_servo returns the error b/w one pose and another, here we are comparing b/w pos of end effector and\n",
    "      # the desired pos 'EndPoint', 'gain' will control the movement speed of the arm from one pos to other, and 'threshold'\n",
    "      # returns the sum of the error, if they come to the mentioned value 'arrived' will set to be true.\n",
    "\n",
    "    J = IIWA.jacobe(IIWA.q) # will give the jacobian of the end effector.\n",
    "\n",
    "    IIWA.qd = np.linalg.pinv(J) @ v  # desired joint velocity of the robot.\n",
    "\n",
    "    #stepping the environment\n",
    "    env.step(dt)"
   ]
  },
  {
   "cell_type": "code",
   "execution_count": null,
   "metadata": {},
   "outputs": [
    {
     "ename": "KeyboardInterrupt",
     "evalue": "",
     "output_type": "error",
     "traceback": [
      "\u001b[0;31m---------------------------------------------------------------------------\u001b[0m",
      "\u001b[0;31mKeyboardInterrupt\u001b[0m                         Traceback (most recent call last)",
      "\u001b[1;32m/Users/sujaymukherjee/Desktop/Fraunhofer/VS code/Robotics toolbox_practice.ipynb Cell 8\u001b[0m line \u001b[0;36m6\n\u001b[1;32m      <a href='vscode-notebook-cell:/Users/sujaymukherjee/Desktop/Fraunhofer/VS%20code/Robotics%20toolbox_practice.ipynb#W6sZmlsZQ%3D%3D?line=0'>1</a>\u001b[0m \u001b[39m# To visualize the robot (using plot refrains doing every step manully)\u001b[39;00m\n\u001b[1;32m      <a href='vscode-notebook-cell:/Users/sujaymukherjee/Desktop/Fraunhofer/VS%20code/Robotics%20toolbox_practice.ipynb#W6sZmlsZQ%3D%3D?line=1'>2</a>\u001b[0m \u001b[39m#### IIWA.plot(IIWA.qr,block=True) ######\u001b[39;00m\n\u001b[1;32m      <a href='vscode-notebook-cell:/Users/sujaymukherjee/Desktop/Fraunhofer/VS%20code/Robotics%20toolbox_practice.ipynb#W6sZmlsZQ%3D%3D?line=2'>3</a>\u001b[0m  \u001b[39m# this 'block' keyword argument stops the program from exiting, thus it will keep running untill manually interrupted. Else Swift would close.\u001b[39;00m\n\u001b[1;32m      <a href='vscode-notebook-cell:/Users/sujaymukherjee/Desktop/Fraunhofer/VS%20code/Robotics%20toolbox_practice.ipynb#W6sZmlsZQ%3D%3D?line=3'>4</a>\u001b[0m \n\u001b[1;32m      <a href='vscode-notebook-cell:/Users/sujaymukherjee/Desktop/Fraunhofer/VS%20code/Robotics%20toolbox_practice.ipynb#W6sZmlsZQ%3D%3D?line=4'>5</a>\u001b[0m \u001b[39m#Stop the swift browser from closing\u001b[39;00m\n\u001b[0;32m----> <a href='vscode-notebook-cell:/Users/sujaymukherjee/Desktop/Fraunhofer/VS%20code/Robotics%20toolbox_practice.ipynb#W6sZmlsZQ%3D%3D?line=5'>6</a>\u001b[0m env\u001b[39m.\u001b[39;49mhold()\n",
      "File \u001b[0;32m~/anaconda3/envs/Internship/lib/python3.10/site-packages/swift/Swift.py:466\u001b[0m, in \u001b[0;36mSwift.hold\u001b[0;34m(self)\u001b[0m\n\u001b[1;32m    459\u001b[0m \u001b[39m\"\"\"\u001b[39;00m\n\u001b[1;32m    460\u001b[0m \u001b[39mhold() keeps the browser tab open i.e. stops the browser tab from\u001b[39;00m\n\u001b[1;32m    461\u001b[0m \u001b[39mclosing once the main script has finished.\u001b[39;00m\n\u001b[1;32m    462\u001b[0m \n\u001b[1;32m    463\u001b[0m \u001b[39m\"\"\"\u001b[39;00m\n\u001b[1;32m    465\u001b[0m \u001b[39mwhile\u001b[39;00m \u001b[39mTrue\u001b[39;00m:\n\u001b[0;32m--> 466\u001b[0m     time\u001b[39m.\u001b[39;49msleep(\u001b[39m1\u001b[39;49m)\n",
      "\u001b[0;31mKeyboardInterrupt\u001b[0m: "
     ]
    }
   ],
   "source": [
    "# To visualize the robot (using plot refrains doing every step manully)\n",
    "#### IIWA.plot(IIWA.qr,block=True) ######\n",
    " # this 'block' keyword argument stops the program from exiting, thus it will keep running untill manually interrupted. Else Swift would close.\n",
    "\n",
    "#Stop the swift browser from closing\n",
    "env.hold()"
   ]
  },
  {
   "cell_type": "code",
   "execution_count": null,
   "metadata": {},
   "outputs": [],
   "source": []
  }
 ],
 "metadata": {
  "kernelspec": {
   "display_name": "Internship",
   "language": "python",
   "name": "python3"
  },
  "language_info": {
   "codemirror_mode": {
    "name": "ipython",
    "version": 3
   },
   "file_extension": ".py",
   "mimetype": "text/x-python",
   "name": "python",
   "nbconvert_exporter": "python",
   "pygments_lexer": "ipython3",
   "version": "3.10.9"
  }
 },
 "nbformat": 4,
 "nbformat_minor": 2
}
